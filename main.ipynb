{
 "cells": [
  {
   "cell_type": "markdown",
   "metadata": {},
   "source": [
    "# Statistical Arbitrage Strategy Implementation"
   ]
  },
  {
   "cell_type": "code",
   "execution_count": null,
   "metadata": {},
   "outputs": [],
   "source": [
    "import pandas as pd\n",
    "from datetime import datetime, timedelta\n",
    "import numpy as np\n",
    "from src.trading_strategy import TradingStrategy \n",
    "from src.back_testing import BackTesting\n",
    "from src.config import tokens_price_path, tokens_largest_cap_path\n",
    "from src.utility import Utility\n",
    "import warnings\n",
    "warnings.filterwarnings(\"ignore\")\n",
    "print(\"Modules Imported\")"
   ]
  },
  {
   "cell_type": "markdown",
   "metadata": {},
   "source": [
    "Read in and clean dataset"
   ]
  },
  {
   "cell_type": "code",
   "execution_count": null,
   "metadata": {},
   "outputs": [],
   "source": [
    "# Read in prices and largest-cap tokens data\n",
    "tokens_price = pd.read_csv(tokens_price_path)\n",
    "tokens_largest_cap = pd.read_csv(tokens_largest_cap_path)\n",
    "\n",
    "# Convert the column 'startTime' to datetime object\n",
    "tokens_price['startTime'] = pd.to_datetime(tokens_price['startTime'])\n",
    "tokens_largest_cap['startTime'] = pd.to_datetime(tokens_largest_cap['startTime'])\n",
    "\n",
    "# Set the 'startTime' column as the index\n",
    "tokens_price.set_index('startTime', inplace=True)\n",
    "tokens_largest_cap.set_index('startTime', inplace=True)\n",
    "tokens_largest_cap"
   ]
  },
  {
   "cell_type": "markdown",
   "metadata": {},
   "source": [
    "## Testing Signal Generation"
   ]
  },
  {
   "cell_type": "code",
   "execution_count": null,
   "metadata": {},
   "outputs": [],
   "source": [
    "# Pick a start time any time around 2021\n",
    "# Here we test if signals can be generated correctly by our trading_strategy.py\n",
    "start_time = datetime.strptime('2021-10-20 03:00:00+00:00', '%Y-%m-%d %H:%M:%S%z')\n",
    "M = 240\n",
    "test = TradingStrategy(tokens_price, tokens_largest_cap, start_time, M)\n",
    "signals = test.generate_signals()\n",
    "signals"
   ]
  },
  {
   "cell_type": "markdown",
   "metadata": {},
   "source": [
    "## Run a testing period from 2021-09-26 00:00:00 to 2022-09-25 23:00:00."
   ]
  },
  {
   "cell_type": "code",
   "outputs": [],
   "source": [
    "start_time = '2021-09-26 00:00:00+00:00'\n",
    "end_time = '2022-09-25 05:00:00+00:00'\n",
    "start_time = Utility.parse_date(start_time)\n",
    "end_time = Utility.parse_date(end_time)\n",
    "prices_BTC = tokens_price['BTC']\n",
    "filtered_BTC = prices_BTC .loc[start_time:end_time]\n",
    "filtered_BTC"
   ],
   "metadata": {
    "collapsed": false
   },
   "execution_count": null
  },
  {
   "cell_type": "code",
   "execution_count": null,
   "metadata": {},
   "outputs": [],
   "source": [
    "start_time = '2021-09-26 00:00:00+00:00'\n",
    "end_time = '2022-09-25 05:00:00+00:00'\n",
    "backtest = BackTesting(start_time, end_time, M, tokens_largest_cap, tokens_price)"
   ]
  },
  {
   "cell_type": "markdown",
   "metadata": {},
   "source": [
    "# Task1a"
   ]
  },
  {
   "cell_type": "code",
   "execution_count": null,
   "metadata": {},
   "outputs": [],
   "source": [
    "portfolios_df = backtest.eigen_vectors_portfolios_df\n",
    "portfolios_df['time'] = pd.to_datetime(portfolios_df['time'])\n",
    "portfolios_df.set_index('time', inplace=True)\n",
    "eigenportfolio1_df = portfolios_df.pivot(columns='common_tokens', values='eigenportfolio1')\n",
    "eigenportfolio2_df = portfolios_df.pivot(columns='common_tokens', values='eigenportfolio2')\n",
    "eigenportfolio1_df.to_csv(\"eigenportfolio1.csv\")\n",
    "eigenportfolio2_df.to_csv(\"eigenportfolio2.csv\")"
   ]
  },
  {
   "cell_type": "code",
   "execution_count": null,
   "metadata": {},
   "outputs": [],
   "source": [
    "eigenvector1_df = portfolios_df.pivot(columns='common_tokens', values='eigenvectors1')\n",
    "eigenvector2_df = portfolios_df.pivot(columns='common_tokens', values='eigenvectors2')\n",
    "eigenvector1_df.to_csv(\"eigenvector1.csv\")\n",
    "eigenvector2_df.to_csv(\"eigenvector2.csv\")"
   ]
  },
  {
   "cell_type": "code",
   "execution_count": null,
   "metadata": {},
   "outputs": [],
   "source": [
    "all_returns = tokens_price.pct_change()\n",
    "all_returns = all_returns.fillna(0)\n",
    "all_returns"
   ]
  },
  {
   "cell_type": "code",
   "execution_count": null,
   "metadata": {},
   "outputs": [],
   "source": [
    "\n",
    "eigenportfolio1_df.fillna(0, inplace=True)\n",
    "\n",
    "# Calculate the absolute row sums\n",
    "row_sums = eigenportfolio1_df.sum(axis=1)\n",
    "\n",
    "# Divide each element by its row sum\n",
    "eigenportfolio1_scaled = eigenportfolio1_df.div(row_sums, axis=0)\n",
    "token_name = eigenportfolio1_scaled.columns\n",
    "eigenportfolio1_returns = all_returns[token_name]\n",
    "eigenportfolio1_returns = eigenportfolio1_returns.loc[eigenportfolio1_scaled.index.tolist()]\n",
    "returns1 = eigenportfolio1_scaled.multiply(eigenportfolio1_returns).sum(axis=1)\n",
    "returns1.replace([np.inf, -np.inf], np.nan, inplace=True)\n",
    "# Replace NaN values with 0\n",
    "returns1.fillna(0, inplace=True)\n",
    "cum_return1 = (1 + returns1).cumprod() - 1\n",
    "cum_return1.name = 'eigenportfolio1'\n",
    "cum_return1"
   ]
  },
  {
   "cell_type": "code",
   "execution_count": null,
   "metadata": {},
   "outputs": [],
   "source": [
    "eigenportfolio2_df.fillna(0, inplace=True)\n",
    "\n",
    "# Calculate the absolute row sums\n",
    "row_sums = eigenportfolio2_df.sum(axis=1)\n",
    "\n",
    "# Divide each element by its row sum\n",
    "eigenportfolio2_scaled = eigenportfolio2_df.div(row_sums, axis=0)\n",
    "token_name = eigenportfolio2_scaled.columns\n",
    "eigenportfolio2_returns = all_returns[token_name]\n",
    "eigenportfolio2_returns = eigenportfolio2_returns.loc[eigenportfolio2_scaled.index.tolist()]\n",
    "returns2 = eigenportfolio2_scaled.multiply(eigenportfolio2_returns).sum(axis=1)\n",
    "returns2.replace([np.inf, -np.inf], np.nan, inplace=True)\n",
    "# Replace NaN values with 0\n",
    "returns2.fillna(0, inplace=True)\n",
    "cum_return2 = (1 + returns2).cumprod() - 1\n",
    "cum_return2.name = 'eigenportfolio2'\n",
    "cum_return2.plot()"
   ]
  },
  {
   "cell_type": "code",
   "execution_count": null,
   "metadata": {},
   "outputs": [],
   "source": [
    "btc_return = all_returns.loc[eigenportfolio2_scaled.index.tolist(), 'BTC']\n",
    "eth_return = all_returns.loc[eigenportfolio2_scaled.index.tolist(), 'ETH']\n",
    "btc_cum_ret = (1 + btc_return).cumprod() - 1\n",
    "eth_cum_ret = (1 + eth_return).cumprod() - 1"
   ]
  },
  {
   "cell_type": "code",
   "execution_count": null,
   "metadata": {},
   "outputs": [],
   "source": [
    "result = pd.concat([cum_return1, btc_cum_ret, eth_cum_ret], axis=1)\n",
    "result.plot()"
   ]
  },
  {
   "cell_type": "markdown",
   "metadata": {},
   "source": [
    "Eigenportfolio1's Graph"
   ]
  },
  {
   "cell_type": "code",
   "execution_count": null,
   "metadata": {},
   "outputs": [],
   "source": [
    "import matplotlib.pyplot as plt\n",
    "\n",
    "# Convert 'time' to datetime and set as index for easier slicing\n",
    "# portfolios_df['time'] = pd.to_datetime(portfolios_df['time'])\n",
    "# portfolios_df.set_index('time', inplace=True)\n",
    "\n",
    "# Extract the specific timestamps for plotting\n",
    "time1 = '2021-09-26T12:00:00+00:00'\n",
    "time2 = '2022-04-15T20:00:00+00:00'\n",
    "\n",
    "# Slice the DataFrame for the two specified timestamps\n",
    "portfolio_time1 = portfolios_df.loc[time1].set_index('common_tokens').sort_values(by='eigenportfolio1', ascending=False)\n",
    "portfolio_time2 = portfolios_df.loc[time2].set_index('common_tokens').sort_values(by='eigenportfolio1', ascending=False)\n",
    "\n",
    "# Define a function to create bar plots for eigenportfolio weights\n",
    "def plot_eigenportfolio_weights(portfolio, title):\n",
    "    plt.figure(figsize=(8, 4))\n",
    "    plt.plot(portfolio.index, portfolio['eigenportfolio1'])\n",
    "    plt.title(title)\n",
    "    plt.xlabel('Tokens')\n",
    "    plt.ylabel('Eigenportfolio Weights')\n",
    "    plt.xticks(rotation=90)\n",
    "    plt.grid(True)\n",
    "    plt.tight_layout()\n",
    "\n",
    "# Plot for the first timestamp\n",
    "plot_eigenportfolio_weights(portfolio_time1, f'Eigenportfolio1 Weights at {time1}')\n",
    "\n",
    "# Plot for the second timestamp\n",
    "plot_eigenportfolio_weights(portfolio_time2, f'Eigenportfolio1 Weights at {time2}')\n",
    "\n",
    "# Show plots\n",
    "plt.show()\n"
   ]
  },
  {
   "cell_type": "markdown",
   "metadata": {},
   "source": [
    "## Eigenportfolio2's Graph"
   ]
  },
  {
   "cell_type": "code",
   "execution_count": null,
   "metadata": {},
   "outputs": [],
   "source": [
    "\n",
    "portfolios_df = backtest.eigen_vectors_portfolios_df\n",
    "# Convert 'time' to datetime and set as index for easier slicing\n",
    "# portfolios_df['time'] = pd.to_datetime(portfolios_df['time'])\n",
    "# portfolios_df.set_index('time', inplace=True)\n",
    "\n",
    "# Extract the specific timestamps for plotting\n",
    "time1 = '2021-09-26T12:00:00+00:00'\n",
    "time2 = '2022-04-15T20:00:00+00:00'\n",
    "\n",
    "# Slice the DataFrame for the two specified timestamps\n",
    "portfolio_time1 = portfolios_df.loc[time1].set_index('common_tokens').sort_values(by='eigenportfolio2', ascending=False)\n",
    "portfolio_time2 = portfolios_df.loc[time2].set_index('common_tokens').sort_values(by='eigenportfolio2', ascending=False)\n",
    "\n",
    "# Define a function to create bar plots for eigenportfolio weights\n",
    "def plot_eigenportfolio_weights(portfolio, title):\n",
    "    plt.figure(figsize=(8, 4))\n",
    "    plt.plot(portfolio.index, portfolio['eigenportfolio2'])\n",
    "    plt.title(title)\n",
    "    plt.xlabel('Tokens')\n",
    "    plt.ylabel('Eigenportfolio Weights')\n",
    "    plt.xticks(rotation=90)\n",
    "    plt.grid(True)\n",
    "    plt.tight_layout()\n",
    "\n",
    "# Plot for the first timestamp\n",
    "plot_eigenportfolio_weights(portfolio_time1, f'Eigenportfolio2 Weights at {time1}')\n",
    "\n",
    "# Plot for the second timestamp\n",
    "plot_eigenportfolio_weights(portfolio_time2, f'Eigenportfolio2 Weights at {time2}')\n",
    "\n",
    "# Show plots\n",
    "plt.show()"
   ]
  },
  {
   "cell_type": "markdown",
   "metadata": {},
   "source": [
    "# BTC Visualization"
   ]
  },
  {
   "cell_type": "code",
   "execution_count": null,
   "metadata": {},
   "outputs": [],
   "source": [
    "df = backtest.signals_df\n",
    "btc_df = df[(df['Token'] == 'BTC') & (df['time'] >= '2021-09-26 00:00:00') & (df['time'] <= '2021-10-25 23:00:00')]\n",
    "eth_df = df[(df['Token'] == 'ETH') & (df['time'] >= '2021-09-26 00:00:00') & (df['time'] <= '2021-10-25 23:00:00')]"
   ]
  },
  {
   "cell_type": "code",
   "execution_count": null,
   "metadata": {},
   "outputs": [],
   "source": [
    "import matplotlib.pyplot as plt\n",
    "\n",
    "# Plotting the evolution of s_score for BTC\n",
    "plt.figure(figsize=(12, 6))\n",
    "plt.plot(btc_df['time'], btc_df['s_score'], marker='o', linestyle='-', color='b')\n",
    "plt.title('Evolution of s_score for BTC from 2021-09-26 to 2021-10-25')\n",
    "plt.xlabel('Time')\n",
    "plt.ylabel('s_score')\n",
    "plt.xticks(rotation=45)\n",
    "plt.grid(True)\n",
    "plt.tight_layout()\n",
    "\n",
    "# Show the plot\n",
    "plt.show()"
   ]
  },
  {
   "cell_type": "code",
   "execution_count": null,
   "metadata": {},
   "outputs": [],
   "source": [
    "# Plotting the evolution of s_score for BTC\n",
    "plt.figure(figsize=(12, 6))\n",
    "plt.plot(eth_df['time'], eth_df['s_score'], marker='o', linestyle='-', color='b')\n",
    "plt.title('Evolution of s_score for ETH from 2021-09-26 to 2021-10-25')\n",
    "plt.xlabel('Time')\n",
    "plt.ylabel('s_score')\n",
    "plt.xticks(rotation=45)\n",
    "plt.grid(True)\n",
    "plt.tight_layout()\n",
    "\n",
    "# Show the plot\n",
    "plt.show()"
   ]
  },
  {
   "cell_type": "markdown",
   "metadata": {},
   "source": []
  },
  {
   "cell_type": "code",
   "execution_count": null,
   "metadata": {},
   "outputs": [],
   "source": [
    "pivot_df = df.pivot(index='time', columns='Token', values='trading_signal')\n",
    "pivot_df.to_csv('trading_signals.csv')"
   ]
  },
  {
   "cell_type": "code",
   "execution_count": null,
   "metadata": {},
   "outputs": [],
   "source": [
    "returns_df = backtest.portfolio_value\n",
    "returns_df = returns_df.dropna()\n",
    "# Calculate the cumulative return\n",
    "returns_df['CumulativeReturn'] = (1 + returns_df['Return']).cumprod() - 1\n",
    "\n",
    "# Plotting the cumulative return curve\n",
    "plt.figure(figsize=(12, 6))\n",
    "plt.plot(returns_df['Time'], returns_df['CumulativeReturn'], color='blue')\n",
    "plt.title('Cumulative Return Curve of the Strategy')\n",
    "plt.xlabel('Time')\n",
    "plt.ylabel('Cumulative Return')\n",
    "plt.grid(True)\n",
    "plt.xticks(rotation=45)\n",
    "plt.tight_layout()"
   ]
  },
  {
   "cell_type": "code",
   "execution_count": null,
   "metadata": {},
   "outputs": [],
   "source": [
    "# Plotting the histogram of hourly returns\n",
    "plt.figure(figsize=(12, 6))\n",
    "plt.hist(returns_df['Return'], bins=50, color='green')\n",
    "plt.title('Histogram of Hourly Returns')\n",
    "plt.xlabel('Hourly Return')\n",
    "plt.ylabel('Frequency')\n",
    "plt.grid(True)\n",
    "plt.tight_layout()\n",
    "\n",
    "# Show the plots\n",
    "plt.show()"
   ]
  },
  {
   "cell_type": "code",
   "execution_count": null,
   "metadata": {},
   "outputs": [],
   "source": [
    "print(\"Here is the Sharpe ratio\")\n",
    "sharpe_ratio = backtest.calculate_sharpe_ratio()\n",
    "print(sharpe_ratio)"
   ]
  },
  {
   "cell_type": "code",
   "execution_count": null,
   "metadata": {},
   "outputs": [],
   "source": [
    "print(\"Here is the maximum drawdown\")\n",
    "maximum_drawdown = backtest.calculate_maximum_drawdown()\n",
    "print(maximum_drawdown)"
   ]
  }
 ],
 "metadata": {
  "kernelspec": {
   "display_name": "stock-analysis",
   "language": "python",
   "name": "python3"
  },
  "language_info": {
   "codemirror_mode": {
    "name": "ipython",
    "version": 3
   },
   "file_extension": ".py",
   "mimetype": "text/x-python",
   "name": "python",
   "nbconvert_exporter": "python",
   "pygments_lexer": "ipython3",
   "version": "3.9.18"
  }
 },
 "nbformat": 4,
 "nbformat_minor": 2
}
